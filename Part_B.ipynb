{
 "cells": [
  {
   "cell_type": "code",
   "execution_count": 5,
   "id": "2dcc911d-a3b8-4b2e-9575-efe678c08601",
   "metadata": {},
   "outputs": [],
   "source": [
    "from math import sqrt\n",
    "import numpy as np\n",
    "import csv"
   ]
  },
  {
   "cell_type": "code",
   "execution_count": 6,
   "id": "ef76e928-b4a2-4aac-be16-265ac7d3501c",
   "metadata": {},
   "outputs": [],
   "source": [
    "# Defining the lists that we will import the data from the csv file to, can also use pandas and numpy\n",
    "seq_100 = []\n",
    "seq_1000 = []\n",
    "seq_10000 = []\n",
    "\n",
    "with open(\"data.csv\", \"r\") as file:\n",
    "    csv_reader = csv.reader(file)\n",
    "    #Using for loops to loop through all data points in each column, using if row[x] is not empty to disregard empty cells\n",
    "    for row in csv_reader:\n",
    "        if row[0] != '':\n",
    "            seq_100.append(float(row[0]))\n",
    "        if row[1] != '':\n",
    "            seq_1000.append(float(row[1]))\n",
    "        if row[2] != '':\n",
    "            seq_10000.append(float(row[2]))"
   ]
  },
  {
   "cell_type": "code",
   "execution_count": 16,
   "id": "11be7e2d-18cf-40bf-81cd-382a8839d282",
   "metadata": {},
   "outputs": [
    {
     "name": "stdout",
     "output_type": "stream",
     "text": [
      "Standard Deviation for 100 floats: 0.2823721097353601\n",
      "Standard Deviation for 1000 floats: 0.28467443283850546\n",
      "Standard Deviation for 10000 floats: 0.2854045269476155\n"
     ]
    }
   ],
   "source": [
    "#1 - Solve STD with only for loops\n",
    "def std_loops(seq_100):\n",
    "    #Defining variables\n",
    "    sum_x = 0\n",
    "    sum_x_squared = 0\n",
    "    N = 0\n",
    "\n",
    "    for i in seq_100:\n",
    "        sum_x += i\n",
    "        sum_x_squared += i**2\n",
    "        N += 1\n",
    "\n",
    "    mean = sum_x / N\n",
    "    mean_x_squared = sum_x_squared/N\n",
    "\n",
    "    return sqrt(mean_x_squared - mean**2)\n",
    "\n",
    "data = [seq_100, seq_1000, seq_10000]\n",
    "LoopStandardDeviations = []\n",
    "\n",
    "#Printing the results\n",
    "for n in data:\n",
    "    LoopStandardDeviations.append(std_loops(n))\n",
    "    if n == seq_100:\n",
    "        x = 100\n",
    "    if n== seq_1000:\n",
    "        x = 1000\n",
    "    if n== seq_10000: \n",
    "        x = 10000\n",
    "    print(f\"Standard Deviation for {x} floats: {std_loops(n)}\")"
   ]
  },
  {
   "cell_type": "code",
   "execution_count": 12,
   "id": "ac676ade-8ea0-49eb-9633-fbe5e8f1e764",
   "metadata": {},
   "outputs": [
    {
     "name": "stdout",
     "output_type": "stream",
     "text": [
      "Standard Deviation for 100 floats: 0.2823721097353601\n",
      "Standard Deviation for 1000 floats: 0.2846744328385061\n",
      "Standard Deviation for 10000 floats: 0.28540452694761564\n"
     ]
    }
   ],
   "source": [
    "# Compute standard deviation of the data using builtin functions\n",
    "def std_builtin(seq_100): \n",
    "\n",
    "        N = len(seq_100)\n",
    "        meanX = sum(seq_100)/N\n",
    "        sumSquares = sum(i**2 for i in seq_100)\n",
    "        meanSquares = sumSquares/N\n",
    "\n",
    "\n",
    "        vSquared =  meanSquares - (meanX)**2\n",
    "        BuiltinStandardDeviation = float(sqrt(vSquared))\n",
    "\n",
    "        return BuiltinStandardDeviation\n",
    "\n",
    "BuiltinSTDs = []\n",
    "\n",
    "for n in data:\n",
    "    BuiltinSTDs.append(std_builtin(n))\n",
    "    if n == seq_100:\n",
    "        x = 100\n",
    "    if n== seq_1000:\n",
    "        x = 1000\n",
    "    if n== seq_10000: \n",
    "        x = 10000\n",
    "    print(f\"Standard Deviation for {x} floats: {std_builtin(n)}\")\n",
    "\n"
   ]
  },
  {
   "cell_type": "code",
   "execution_count": 14,
   "id": "f2c4a61d-6209-4128-86da-6de00c02db88",
   "metadata": {},
   "outputs": [
    {
     "name": "stdout",
     "output_type": "stream",
     "text": [
      "Standard Deviation for 100 floats: 0.28237210973536014\n",
      "Standard Deviation for 1000 floats: 0.28467443283850596\n",
      "Standard Deviation for 10000 floats: 0.2854045269476156\n"
     ]
    }
   ],
   "source": [
    "# Compute standard deviation of the data using numpy\n",
    "numpySTDS = []\n",
    "\n",
    "for n in data:\n",
    "    numpySTDS.append(np.std(n))\n",
    "    if n == seq_100:\n",
    "        x = 100\n",
    "    if n== seq_1000:\n",
    "        x = 1000\n",
    "    if n== seq_10000: \n",
    "        x = 10000\n",
    "    print(f\"Standard Deviation for {x} floats: {np.std(n)}\")\n"
   ]
  },
  {
   "cell_type": "code",
   "execution_count": 9,
   "id": "7cf5b751-408d-4c7f-a0f0-44867043c6ab",
   "metadata": {},
   "outputs": [
    {
     "name": "stdout",
     "output_type": "stream",
     "text": [
      "29.6 μs ± 1.79 μs per loop (mean ± std. dev. of 7 runs, 10,000 loops each)\n",
      "38.3 μs ± 8.53 μs per loop (mean ± std. dev. of 7 runs, 10,000 loops each)\n",
      "78.7 μs ± 15.9 μs per loop (mean ± std. dev. of 7 runs, 10,000 loops each)\n"
     ]
    }
   ],
   "source": [
    "#Timing the different functions for 100 data points\n",
    "# Using loops\n",
    "%timeit std_loops(seq_100)\n",
    "\n",
    "#Using Built-in functions\n",
    "%timeit std_builtin(seq_100)\n",
    "\n",
    "#Using numpy\n",
    "%timeit np.std(seq_100)"
   ]
  },
  {
   "cell_type": "code",
   "execution_count": 7,
   "id": "25069fff-756b-4e7a-b0fd-9da9e6a4e3ef",
   "metadata": {},
   "outputs": [
    {
     "name": "stdout",
     "output_type": "stream",
     "text": [
      "372 μs ± 21.1 μs per loop (mean ± std. dev. of 7 runs, 1,000 loops each)\n",
      "308 μs ± 11.4 μs per loop (mean ± std. dev. of 7 runs, 1,000 loops each)\n",
      "62.1 μs ± 2.1 μs per loop (mean ± std. dev. of 7 runs, 10,000 loops each)\n"
     ]
    }
   ],
   "source": [
    "#Timing the different functions for 1000 data points\n",
    "%timeit std_loops(seq_1000)\n",
    "%timeit std_builtin(seq_1000)\n",
    "%timeit np.std(seq_1000)"
   ]
  },
  {
   "cell_type": "code",
   "execution_count": 8,
   "id": "be7bb019-a30c-4174-a391-b67aa1215955",
   "metadata": {},
   "outputs": [
    {
     "name": "stdout",
     "output_type": "stream",
     "text": [
      "4.45 ms ± 130 μs per loop (mean ± std. dev. of 7 runs, 100 loops each)\n",
      "3.37 ms ± 490 μs per loop (mean ± std. dev. of 7 runs, 100 loops each)\n",
      "894 μs ± 83.9 μs per loop (mean ± std. dev. of 7 runs, 1,000 loops each)\n"
     ]
    }
   ],
   "source": [
    "#Timing the different functions for 10000 data points\n",
    "%timeit std_loops(seq_10000)\n",
    "%timeit std_builtin(seq_10000)\n",
    "%timeit np.std(seq_10000)"
   ]
  }
 ],
 "metadata": {
  "kernelspec": {
   "display_name": "Python 3 (ipykernel)",
   "language": "python",
   "name": "python3"
  },
  "language_info": {
   "codemirror_mode": {
    "name": "ipython",
    "version": 3
   },
   "file_extension": ".py",
   "mimetype": "text/x-python",
   "name": "python",
   "nbconvert_exporter": "python",
   "pygments_lexer": "ipython3",
   "version": "3.12.4"
  }
 },
 "nbformat": 4,
 "nbformat_minor": 5
}
